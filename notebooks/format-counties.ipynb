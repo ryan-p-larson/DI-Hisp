{
 "cells": [
  {
   "cell_type": "code",
   "execution_count": 18,
   "metadata": {
    "collapsed": true
   },
   "outputs": [],
   "source": [
    "# Libraries & directories\n",
    "import pandas as pd"
   ]
  },
  {
   "cell_type": "code",
   "execution_count": 19,
   "metadata": {
    "collapsed": true
   },
   "outputs": [],
   "source": [
    "dirData = '../data/'\n",
    "dirDataExt = dirData + 'external/'\n",
    "\n",
    "dirCensus = dirDataExt + 'census/'"
   ]
  },
  {
   "cell_type": "code",
   "execution_count": 20,
   "metadata": {
    "collapsed": false
   },
   "outputs": [],
   "source": [
    "# 1990s first\n",
    "f1992 = dirCensus + 'crhia92.txt'\n",
    "\n",
    "# 1992's Census is fixed width and weird -> columns and names\n",
    "f1992Cols = [(0,6), (6,40), (40, 51), (51, 60), (60, 69), (69, 78), (78, 86), (86, 96), (96, 104), (105, 114)]\n",
    "f1992ColNames = ['FIPS', 'County Name', 'Total Population', 'White', 'White - Hispanic', 'White - non hispanic', 'Black', 'American Indian & Native Alaskan', 'Asian & Pacific Islander', 'Hispanic']\n",
    "\n",
    "# The file has 8 rows of metadata\n",
    "# use cols and header, set header to none for custom cols\n",
    "df1992 = pd.read_fwf(f1992, skiprows=16, colspecs=f1992Cols,\n",
    "                     header=None, names=f1992ColNames, index_col=False, \n",
    "                     nrows=99)\n",
    "\n",
    "# Calc the percentage\n",
    "df1992['hisp_perc'] = (df1992['Hispanic'] / df1992['Total Population']) * 100"
   ]
  },
  {
   "cell_type": "code",
   "execution_count": 21,
   "metadata": {
    "collapsed": false
   },
   "outputs": [],
   "source": [
    "# 1996 next\n",
    "f1996 = dirCensus + 'crhia96.txt'\n",
    "\n",
    "f1996Cols = [(0,6), (6,40), (40, 51), (51, 60), (60, 69), (69, 78), (78, 86), (86, 96), (96, 105), (105, 115)]\n",
    "\n",
    "# Reuse the 1990 cols & names\n",
    "df1996 = pd.read_fwf(f1996, skiprows=16, colspecs=f1996Cols,\n",
    "                     header=None, names=f1992ColNames, index_col=False, \n",
    "                    nrows=99)\n",
    "\n",
    "# Calc the percentage\n",
    "df1996['hisp_perc'] = (df1996['Hispanic'] / df1996['Total Population']) * 100"
   ]
  },
  {
   "cell_type": "code",
   "execution_count": 22,
   "metadata": {
    "collapsed": false
   },
   "outputs": [
    {
     "data": {
      "text/html": [
       "<div>\n",
       "<table border=\"1\" class=\"dataframe\">\n",
       "  <thead>\n",
       "    <tr style=\"text-align: right;\">\n",
       "      <th></th>\n",
       "      <th>FIPS</th>\n",
       "      <th>County Name</th>\n",
       "      <th>Total Population</th>\n",
       "      <th>White</th>\n",
       "      <th>White - Hispanic</th>\n",
       "      <th>White - non hispanic</th>\n",
       "      <th>Black</th>\n",
       "      <th>American Indian &amp; Native Alaskan</th>\n",
       "      <th>Asian &amp; Pacific Islander</th>\n",
       "      <th>Hispanic</th>\n",
       "      <th>hisp_perc</th>\n",
       "    </tr>\n",
       "  </thead>\n",
       "  <tbody>\n",
       "    <tr>\n",
       "      <th>0</th>\n",
       "      <td>19001</td>\n",
       "      <td>Adair County</td>\n",
       "      <td>8221</td>\n",
       "      <td>8193</td>\n",
       "      <td>39</td>\n",
       "      <td>8154</td>\n",
       "      <td>1</td>\n",
       "      <td>4</td>\n",
       "      <td>23</td>\n",
       "      <td>48</td>\n",
       "      <td>0.583871</td>\n",
       "    </tr>\n",
       "    <tr>\n",
       "      <th>1</th>\n",
       "      <td>19003</td>\n",
       "      <td>Adams County</td>\n",
       "      <td>4450</td>\n",
       "      <td>4437</td>\n",
       "      <td>18</td>\n",
       "      <td>4419</td>\n",
       "      <td>3</td>\n",
       "      <td>8</td>\n",
       "      <td>2</td>\n",
       "      <td>19</td>\n",
       "      <td>0.426966</td>\n",
       "    </tr>\n",
       "    <tr>\n",
       "      <th>2</th>\n",
       "      <td>19005</td>\n",
       "      <td>Allamakee County</td>\n",
       "      <td>14053</td>\n",
       "      <td>13949</td>\n",
       "      <td>48</td>\n",
       "      <td>13901</td>\n",
       "      <td>41</td>\n",
       "      <td>22</td>\n",
       "      <td>41</td>\n",
       "      <td>66</td>\n",
       "      <td>0.469651</td>\n",
       "    </tr>\n",
       "    <tr>\n",
       "      <th>3</th>\n",
       "      <td>19007</td>\n",
       "      <td>Appanoose County</td>\n",
       "      <td>13604</td>\n",
       "      <td>13449</td>\n",
       "      <td>105</td>\n",
       "      <td>13344</td>\n",
       "      <td>82</td>\n",
       "      <td>29</td>\n",
       "      <td>44</td>\n",
       "      <td>106</td>\n",
       "      <td>0.779183</td>\n",
       "    </tr>\n",
       "    <tr>\n",
       "      <th>4</th>\n",
       "      <td>19009</td>\n",
       "      <td>Audubon County</td>\n",
       "      <td>6847</td>\n",
       "      <td>6836</td>\n",
       "      <td>22</td>\n",
       "      <td>6814</td>\n",
       "      <td>3</td>\n",
       "      <td>2</td>\n",
       "      <td>6</td>\n",
       "      <td>25</td>\n",
       "      <td>0.365123</td>\n",
       "    </tr>\n",
       "  </tbody>\n",
       "</table>\n",
       "</div>"
      ],
      "text/plain": [
       "    FIPS       County Name  Total Population  White  White - Hispanic  \\\n",
       "0  19001      Adair County              8221   8193                39   \n",
       "1  19003      Adams County              4450   4437                18   \n",
       "2  19005  Allamakee County             14053  13949                48   \n",
       "3  19007  Appanoose County             13604  13449               105   \n",
       "4  19009    Audubon County              6847   6836                22   \n",
       "\n",
       "   White - non hispanic  Black  American Indian & Native Alaskan  \\\n",
       "0                  8154      1                                 4   \n",
       "1                  4419      3                                 8   \n",
       "2                 13901     41                                22   \n",
       "3                 13344     82                                29   \n",
       "4                  6814      3                                 2   \n",
       "\n",
       "   Asian & Pacific Islander  Hispanic  hisp_perc  \n",
       "0                        23        48   0.583871  \n",
       "1                         2        19   0.426966  \n",
       "2                        41        66   0.469651  \n",
       "3                        44       106   0.779183  \n",
       "4                         6        25   0.365123  "
      ]
     },
     "execution_count": 22,
     "metadata": {},
     "output_type": "execute_result"
    }
   ],
   "source": [
    "df1996.head()"
   ]
  },
  {
   "cell_type": "code",
   "execution_count": 23,
   "metadata": {
    "collapsed": false
   },
   "outputs": [],
   "source": [
    "# 2000\n",
    "f2000s = dirCensus + 'CO-EST00INT-SEXRACEHISP.csv'\n",
    "\n",
    "df2000s = pd.read_csv(f2000s, dtype={'COUNTY':str}, encoding = 'iso-8859-1')"
   ]
  },
  {
   "cell_type": "code",
   "execution_count": 24,
   "metadata": {
    "collapsed": false
   },
   "outputs": [
    {
     "data": {
      "text/html": [
       "<div>\n",
       "<table border=\"1\" class=\"dataframe\">\n",
       "  <thead>\n",
       "    <tr style=\"text-align: right;\">\n",
       "      <th></th>\n",
       "      <th>STATE</th>\n",
       "      <th>COUNTY</th>\n",
       "      <th>CTYNAME</th>\n",
       "      <th>SEX</th>\n",
       "      <th>ORIGIN</th>\n",
       "      <th>RACE</th>\n",
       "      <th>POPESTIMATE2000</th>\n",
       "      <th>POPESTIMATE2004</th>\n",
       "      <th>POPESTIMATE2008</th>\n",
       "    </tr>\n",
       "  </thead>\n",
       "  <tbody>\n",
       "    <tr>\n",
       "      <th>49707</th>\n",
       "      <td>19</td>\n",
       "      <td>001</td>\n",
       "      <td>Adair County</td>\n",
       "      <td>0</td>\n",
       "      <td>0</td>\n",
       "      <td>0</td>\n",
       "      <td>8223</td>\n",
       "      <td>8019</td>\n",
       "      <td>7747</td>\n",
       "    </tr>\n",
       "    <tr>\n",
       "      <th>49708</th>\n",
       "      <td>19</td>\n",
       "      <td>001</td>\n",
       "      <td>Adair County</td>\n",
       "      <td>0</td>\n",
       "      <td>0</td>\n",
       "      <td>1</td>\n",
       "      <td>8163</td>\n",
       "      <td>7953</td>\n",
       "      <td>7663</td>\n",
       "    </tr>\n",
       "    <tr>\n",
       "      <th>49709</th>\n",
       "      <td>19</td>\n",
       "      <td>001</td>\n",
       "      <td>Adair County</td>\n",
       "      <td>0</td>\n",
       "      <td>0</td>\n",
       "      <td>2</td>\n",
       "      <td>6</td>\n",
       "      <td>6</td>\n",
       "      <td>12</td>\n",
       "    </tr>\n",
       "    <tr>\n",
       "      <th>49710</th>\n",
       "      <td>19</td>\n",
       "      <td>001</td>\n",
       "      <td>Adair County</td>\n",
       "      <td>0</td>\n",
       "      <td>0</td>\n",
       "      <td>3</td>\n",
       "      <td>6</td>\n",
       "      <td>6</td>\n",
       "      <td>4</td>\n",
       "    </tr>\n",
       "    <tr>\n",
       "      <th>49711</th>\n",
       "      <td>19</td>\n",
       "      <td>001</td>\n",
       "      <td>Adair County</td>\n",
       "      <td>0</td>\n",
       "      <td>0</td>\n",
       "      <td>4</td>\n",
       "      <td>20</td>\n",
       "      <td>19</td>\n",
       "      <td>22</td>\n",
       "    </tr>\n",
       "  </tbody>\n",
       "</table>\n",
       "</div>"
      ],
      "text/plain": [
       "       STATE COUNTY       CTYNAME  SEX  ORIGIN  RACE  POPESTIMATE2000  \\\n",
       "49707     19    001  Adair County    0       0     0             8223   \n",
       "49708     19    001  Adair County    0       0     1             8163   \n",
       "49709     19    001  Adair County    0       0     2                6   \n",
       "49710     19    001  Adair County    0       0     3                6   \n",
       "49711     19    001  Adair County    0       0     4               20   \n",
       "\n",
       "       POPESTIMATE2004  POPESTIMATE2008  \n",
       "49707             8019             7747  \n",
       "49708             7953             7663  \n",
       "49709                6               12  \n",
       "49710                6                4  \n",
       "49711               19               22  "
      ]
     },
     "execution_count": 24,
     "metadata": {},
     "output_type": "execute_result"
    }
   ],
   "source": [
    "# filtering...\n",
    "# SEX = 0 [total]\n",
    "# RACE = 0 [all races combined]\n",
    "# ORIGIN = {0:'Total', 1:'Not Hispanic', 2:'Hispanic'}\n",
    "\n",
    "# State=19 at the end\n",
    "\n",
    "filt2000s = df2000s[['STATE', 'COUNTY', 'CTYNAME', 'SEX', 'ORIGIN', 'RACE', 'POPESTIMATE2000', 'POPESTIMATE2004', 'POPESTIMATE2008']][(df2000s.STATE == 19)]\n",
    "filt2000s.head()"
   ]
  },
  {
   "cell_type": "code",
   "execution_count": 25,
   "metadata": {
    "collapsed": false
   },
   "outputs": [],
   "source": [
    "# 2000\n",
    "\n",
    "# Create another filtered dataframe with only the 2000's info\n",
    "hisp2000 = filt2000s[['CTYNAME', 'COUNTY', 'SEX', 'ORIGIN', 'RACE', 'POPESTIMATE2000']]\n",
    "\n",
    "# create the final dataframe\n",
    "# rename column to hispanic population\n",
    "df2000 = hisp2000[['CTYNAME', 'COUNTY', 'POPESTIMATE2000']][(hisp2000.SEX == 0) & (hisp2000.RACE == 0) & (hisp2000.ORIGIN == 2)].rename(columns={'POPESTIMATE2000': 'hisp_pop'}) \n",
    "\n",
    "# Add column, but use the indexes to assign value\n",
    "df2000['total_pop'] = hisp2000['POPESTIMATE2000'][(hisp2000.SEX == 0) & (hisp2000.RACE == 0) & (hisp2000.ORIGIN == 0)].values\n",
    "\n",
    "# Finally, create the percentage\n",
    "df2000['hisp_perc'] = (df2000['hisp_pop'] / df2000['total_pop']) * 100"
   ]
  },
  {
   "cell_type": "code",
   "execution_count": 26,
   "metadata": {
    "collapsed": false
   },
   "outputs": [],
   "source": [
    "# 2004\n",
    "\n",
    "# Create another filtered dataframe with only the 2000's info\n",
    "hisp2004 = filt2000s[['CTYNAME', 'COUNTY', 'SEX', 'ORIGIN', 'RACE', 'POPESTIMATE2004']]\n",
    "\n",
    "# rename column to hispanic population\n",
    "df2004 = hisp2004[['CTYNAME', 'COUNTY', 'POPESTIMATE2004']][(hisp2004.SEX == 0) & (hisp2004.RACE == 0) & (hisp2004.ORIGIN == 2)].rename(columns={'POPESTIMATE2004': 'hisp_pop'}) \n",
    "\n",
    "# Add column, but use the indexes to assign value\n",
    "df2004['total_pop'] = hisp2004['POPESTIMATE2004'][(hisp2004.SEX == 0) & (hisp2004.RACE == 0) & (hisp2004.ORIGIN == 0)].values\n",
    "\n",
    "# Finally, create the percentage\n",
    "df2004['hisp_perc'] = (df2004['hisp_pop'] / df2004['total_pop']) * 100"
   ]
  },
  {
   "cell_type": "code",
   "execution_count": 27,
   "metadata": {
    "collapsed": false
   },
   "outputs": [],
   "source": [
    "# 2008\n",
    "\n",
    "# Create another filtered dataframe with only the 2000's info\n",
    "hisp2008 = filt2000s[['CTYNAME', 'COUNTY', 'SEX', 'ORIGIN', 'RACE', 'POPESTIMATE2008']]\n",
    "\n",
    "# rename column to hispanic population\n",
    "df2008 = hisp2008[['CTYNAME', 'COUNTY', 'POPESTIMATE2008']][(hisp2008.SEX == 0) & (hisp2008.RACE == 0) & (hisp2008.ORIGIN == 2)].rename(columns={'POPESTIMATE2008': 'hisp_pop'}) \n",
    "\n",
    "# Add column, but use the indexes to assign value\n",
    "df2008['total_pop'] = hisp2008['POPESTIMATE2008'][(hisp2008.SEX == 0) & (hisp2008.RACE == 0) & (hisp2008.ORIGIN == 0)].values\n",
    "\n",
    "# Finally, create the percentage\n",
    "df2008['hisp_perc'] = (df2008['hisp_pop'] / df2008['total_pop']) * 100"
   ]
  },
  {
   "cell_type": "code",
   "execution_count": 28,
   "metadata": {
    "collapsed": false
   },
   "outputs": [
    {
     "data": {
      "text/html": [
       "<div>\n",
       "<table border=\"1\" class=\"dataframe\">\n",
       "  <thead>\n",
       "    <tr style=\"text-align: right;\">\n",
       "      <th></th>\n",
       "      <th>CTYNAME</th>\n",
       "      <th>COUNTY</th>\n",
       "      <th>hisp_pop</th>\n",
       "      <th>total_pop</th>\n",
       "      <th>hisp_perc</th>\n",
       "    </tr>\n",
       "  </thead>\n",
       "  <tbody>\n",
       "    <tr>\n",
       "      <th>49721</th>\n",
       "      <td>Adair County</td>\n",
       "      <td>001</td>\n",
       "      <td>98</td>\n",
       "      <td>7747</td>\n",
       "      <td>1.265006</td>\n",
       "    </tr>\n",
       "    <tr>\n",
       "      <th>49784</th>\n",
       "      <td>Adams County</td>\n",
       "      <td>003</td>\n",
       "      <td>35</td>\n",
       "      <td>4151</td>\n",
       "      <td>0.843170</td>\n",
       "    </tr>\n",
       "    <tr>\n",
       "      <th>49847</th>\n",
       "      <td>Allamakee County</td>\n",
       "      <td>005</td>\n",
       "      <td>788</td>\n",
       "      <td>14325</td>\n",
       "      <td>5.500873</td>\n",
       "    </tr>\n",
       "    <tr>\n",
       "      <th>49910</th>\n",
       "      <td>Appanoose County</td>\n",
       "      <td>007</td>\n",
       "      <td>168</td>\n",
       "      <td>12950</td>\n",
       "      <td>1.297297</td>\n",
       "    </tr>\n",
       "    <tr>\n",
       "      <th>49973</th>\n",
       "      <td>Audubon County</td>\n",
       "      <td>009</td>\n",
       "      <td>35</td>\n",
       "      <td>6200</td>\n",
       "      <td>0.564516</td>\n",
       "    </tr>\n",
       "  </tbody>\n",
       "</table>\n",
       "</div>"
      ],
      "text/plain": [
       "                CTYNAME COUNTY  hisp_pop  total_pop  hisp_perc\n",
       "49721      Adair County    001        98       7747   1.265006\n",
       "49784      Adams County    003        35       4151   0.843170\n",
       "49847  Allamakee County    005       788      14325   5.500873\n",
       "49910  Appanoose County    007       168      12950   1.297297\n",
       "49973    Audubon County    009        35       6200   0.564516"
      ]
     },
     "execution_count": 28,
     "metadata": {},
     "output_type": "execute_result"
    }
   ],
   "source": [
    "df2008.head()"
   ]
  },
  {
   "cell_type": "code",
   "execution_count": 29,
   "metadata": {
    "collapsed": false
   },
   "outputs": [],
   "source": [
    "# 2012\n",
    "\n",
    "f2012 = dirCensus + 'CC-EST2012-ALLDATA-19.csv'\n",
    "\n",
    "df2012 = pd.read_csv(f2012, dtype={'COUNTY':str})\n",
    "\n",
    "# 2012 file has ALL counties, we'll need to filter down\n",
    "# YEAR = 8 [2015 estimate]\n",
    "# AGEGRP = 0 [Total]\n",
    "df2012 = df2012[(df2012.YEAR == 5) & (df2012.AGEGRP == 0)]\n",
    "\n",
    "# add total hispanic population\n",
    "df2012['hisp_pop'] = df2012.H_MALE + df2012.H_FEMALE\n",
    "\n",
    "# And calculate the percentage\n",
    "df2012['hisp_perc'] = (df2012.hisp_pop / df2012.TOT_POP) * 100"
   ]
  },
  {
   "cell_type": "code",
   "execution_count": 30,
   "metadata": {
    "collapsed": false
   },
   "outputs": [
    {
     "data": {
      "text/html": [
       "<div>\n",
       "<table border=\"1\" class=\"dataframe\">\n",
       "  <thead>\n",
       "    <tr style=\"text-align: right;\">\n",
       "      <th></th>\n",
       "      <th>CTYNAME</th>\n",
       "      <th>COUNTY</th>\n",
       "      <th>hisp_perc2008</th>\n",
       "      <th>hisp_perc2004</th>\n",
       "      <th>hisp_perc2000</th>\n",
       "      <th>hisp_perc1996</th>\n",
       "      <th>hisp_perc1992</th>\n",
       "      <th>hisp_perc2012</th>\n",
       "    </tr>\n",
       "  </thead>\n",
       "  <tbody>\n",
       "    <tr>\n",
       "      <th>49721</th>\n",
       "      <td>Adair County</td>\n",
       "      <td>001</td>\n",
       "      <td>1.265006</td>\n",
       "      <td>0.810575</td>\n",
       "      <td>0.693178</td>\n",
       "      <td>0.583871</td>\n",
       "      <td>0.441212</td>\n",
       "      <td>1.256517</td>\n",
       "    </tr>\n",
       "    <tr>\n",
       "      <th>49784</th>\n",
       "      <td>Adams County</td>\n",
       "      <td>003</td>\n",
       "      <td>0.843170</td>\n",
       "      <td>0.603668</td>\n",
       "      <td>0.580876</td>\n",
       "      <td>0.426966</td>\n",
       "      <td>0.365277</td>\n",
       "      <td>0.997187</td>\n",
       "    </tr>\n",
       "    <tr>\n",
       "      <th>49847</th>\n",
       "      <td>Allamakee County</td>\n",
       "      <td>005</td>\n",
       "      <td>5.500873</td>\n",
       "      <td>4.865959</td>\n",
       "      <td>3.536868</td>\n",
       "      <td>0.469651</td>\n",
       "      <td>0.300537</td>\n",
       "      <td>6.019527</td>\n",
       "    </tr>\n",
       "    <tr>\n",
       "      <th>49910</th>\n",
       "      <td>Appanoose County</td>\n",
       "      <td>007</td>\n",
       "      <td>1.297297</td>\n",
       "      <td>1.143961</td>\n",
       "      <td>0.992991</td>\n",
       "      <td>0.779183</td>\n",
       "      <td>0.550366</td>\n",
       "      <td>1.566929</td>\n",
       "    </tr>\n",
       "    <tr>\n",
       "      <th>49973</th>\n",
       "      <td>Audubon County</td>\n",
       "      <td>009</td>\n",
       "      <td>0.564516</td>\n",
       "      <td>0.482115</td>\n",
       "      <td>0.485009</td>\n",
       "      <td>0.365123</td>\n",
       "      <td>0.365374</td>\n",
       "      <td>0.846024</td>\n",
       "    </tr>\n",
       "  </tbody>\n",
       "</table>\n",
       "</div>"
      ],
      "text/plain": [
       "                CTYNAME COUNTY  hisp_perc2008  hisp_perc2004  hisp_perc2000  \\\n",
       "49721      Adair County    001       1.265006       0.810575       0.693178   \n",
       "49784      Adams County    003       0.843170       0.603668       0.580876   \n",
       "49847  Allamakee County    005       5.500873       4.865959       3.536868   \n",
       "49910  Appanoose County    007       1.297297       1.143961       0.992991   \n",
       "49973    Audubon County    009       0.564516       0.482115       0.485009   \n",
       "\n",
       "       hisp_perc1996  hisp_perc1992  hisp_perc2012  \n",
       "49721       0.583871       0.441212       1.256517  \n",
       "49784       0.426966       0.365277       0.997187  \n",
       "49847       0.469651       0.300537       6.019527  \n",
       "49910       0.779183       0.550366       1.566929  \n",
       "49973       0.365123       0.365374       0.846024  "
      ]
     },
     "execution_count": 30,
     "metadata": {},
     "output_type": "execute_result"
    }
   ],
   "source": [
    "# Canonical dataframe\n",
    "\n",
    "# Create a dataframe from 2010 and keep only the vars we want\n",
    "dfCanonical = df2008[['CTYNAME', 'COUNTY', 'hisp_perc']].rename(columns={'hisp_perc':'hisp_perc2008'})\n",
    "\n",
    "# Assign and rename percentages calculated from previous dataframes\n",
    "dfCanonical['hisp_perc2004'] = df2004['hisp_perc']\n",
    "dfCanonical['hisp_perc2000'] = df2000['hisp_perc']\n",
    "\n",
    "# indices mismatch, just use values as all are in order\n",
    "dfCanonical['hisp_perc1996'] = df1996['hisp_perc'].values\n",
    "dfCanonical['hisp_perc1992'] = df1992['hisp_perc'].values\n",
    "dfCanonical['hisp_perc2012'] = df2012['hisp_perc'].values\n",
    "\n",
    "\n",
    "dfCanonical.head()"
   ]
  },
  {
   "cell_type": "code",
   "execution_count": 31,
   "metadata": {
    "collapsed": false
   },
   "outputs": [],
   "source": [
    "# write out to a csv\n",
    "fCanonical = dirData + 'processed/populations/ia-hisp-counties.csv'\n",
    "dfCanonical.to_csv(fCanonical, float_format='%.3f', index=False)"
   ]
  },
  {
   "cell_type": "code",
   "execution_count": null,
   "metadata": {
    "collapsed": true
   },
   "outputs": [],
   "source": []
  }
 ],
 "metadata": {
  "kernelspec": {
   "display_name": "Python 2",
   "language": "python",
   "name": "python2"
  },
  "language_info": {
   "codemirror_mode": {
    "name": "ipython",
    "version": 2
   },
   "file_extension": ".py",
   "mimetype": "text/x-python",
   "name": "python",
   "nbconvert_exporter": "python",
   "pygments_lexer": "ipython2",
   "version": "2.7.12"
  }
 },
 "nbformat": 4,
 "nbformat_minor": 1
}
