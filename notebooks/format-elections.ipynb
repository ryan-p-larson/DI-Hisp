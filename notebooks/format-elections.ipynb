{
 "cells": [
  {
   "cell_type": "code",
   "execution_count": 2,
   "metadata": {
    "collapsed": true
   },
   "outputs": [],
   "source": [
    "# Libraries\n",
    "import pandas as pd"
   ]
  },
  {
   "cell_type": "code",
   "execution_count": 3,
   "metadata": {
    "collapsed": true
   },
   "outputs": [],
   "source": [
    "# directories\n",
    "dirData = '../data/'\n",
    "\n",
    "dirDataExt = dirData + 'external/'\n",
    "dirElection = dirDataExt + 'election/'\n",
    "\n",
    "dirDataProc = dirData + 'processed/'"
   ]
  },
  {
   "cell_type": "markdown",
   "metadata": {},
   "source": [
    "## 2012\n",
    "\n",
    "All numbers are in thousands."
   ]
  },
  {
   "cell_type": "code",
   "execution_count": 4,
   "metadata": {
    "collapsed": false
   },
   "outputs": [],
   "source": [
    "f2012 = pd.read_csv(dirElection + 'Table04b(2012).csv', \n",
    "                    skiprows=3, na_values=['(B)', '-'])\n",
    "f2012['State'].fillna(method='ffill', inplace=True)"
   ]
  },
  {
   "cell_type": "code",
   "execution_count": 5,
   "metadata": {
    "collapsed": false
   },
   "outputs": [],
   "source": [
    "df2012Iowa = f2012[f2012['State'] == 'IOWA']"
   ]
  },
  {
   "cell_type": "code",
   "execution_count": 6,
   "metadata": {
    "collapsed": true
   },
   "outputs": [],
   "source": [
    "# Population\n",
    "# Registration\n",
    "# Percent voted\n",
    "formatted2012DF = df2012Iowa[['Race and Hispanic origin', 'Total Population', 'Total Citizen Population', \n",
    "                      'Total registered', 'Percent registered\\n(Total)', 'Percent registered\\n(Citizen)',\n",
    "                     'Total voted', 'Percent voted\\n(Total)', 'Percent voted\\n(Citizen)']]"
   ]
  },
  {
   "cell_type": "markdown",
   "metadata": {},
   "source": [
    "## 2008"
   ]
  },
  {
   "cell_type": "code",
   "execution_count": 7,
   "metadata": {
    "collapsed": false
   },
   "outputs": [],
   "source": [
    "# from 2008 table 04b. Formatting is weirddddd\n",
    "f2008 = pd.read_csv(dirElection + 'Table 04b(2008).csv', header=5, na_values=['(B)','-']) "
   ]
  },
  {
   "cell_type": "code",
   "execution_count": 8,
   "metadata": {
    "collapsed": false
   },
   "outputs": [
    {
     "name": "stderr",
     "output_type": "stream",
     "text": [
      "/home/user/.local/lib/python2.7/site-packages/ipykernel/__main__.py:2: SettingWithCopyWarning: \n",
      "A value is trying to be set on a copy of a slice from a DataFrame.\n",
      "Try using .loc[row_indexer,col_indexer] = value instead\n",
      "\n",
      "See the caveats in the documentation: http://pandas.pydata.org/pandas-docs/stable/indexing.html#indexing-view-versus-copy\n",
      "  from ipykernel import kernelapp as app\n"
     ]
    }
   ],
   "source": [
    "df2008Ia = f2008.iloc[193:204]\n",
    "df2008Ia['Race and Hispanic origin'] = df2008Ia['State, sex, race, and Hispanic origin'].apply(lambda x: x.replace('.', ''))"
   ]
  },
  {
   "cell_type": "code",
   "execution_count": 9,
   "metadata": {
    "collapsed": false
   },
   "outputs": [],
   "source": [
    "formatted2008DF = df2008Ia[['Race and Hispanic origin', 'Total Population', 'Total Citizen Population', \n",
    "                      'Total Registered', 'Total Voted', 'Percent registered (Total 18+)', \n",
    "                    'Percent registered (Citizen 18+)', 'Percent voted (Total 18+)', 'Percent voted (Citizen 18+)']]"
   ]
  },
  {
   "cell_type": "markdown",
   "metadata": {},
   "source": [
    "## 2004"
   ]
  },
  {
   "cell_type": "code",
   "execution_count": 10,
   "metadata": {
    "collapsed": false
   },
   "outputs": [
    {
     "name": "stderr",
     "output_type": "stream",
     "text": [
      "/home/user/.local/lib/python2.7/site-packages/ipykernel/__main__.py:8: SettingWithCopyWarning: \n",
      "A value is trying to be set on a copy of a slice from a DataFrame.\n",
      "Try using .loc[row_indexer,col_indexer] = value instead\n",
      "\n",
      "See the caveats in the documentation: http://pandas.pydata.org/pandas-docs/stable/indexing.html#indexing-view-versus-copy\n"
     ]
    }
   ],
   "source": [
    "# same formatting as 2008\n",
    "f2004 = pd.read_csv(dirElection + 'Table 04b(2008).csv', header=5, na_values=['(B)', '-'])\n",
    "\n",
    "# extract just iowa\n",
    "df2004Ia = f2004.iloc[193:204]\n",
    "\n",
    "#fix race col\n",
    "df2004Ia['Race and Hispanic origin'] = df2004Ia['State, sex, race, and Hispanic origin'].apply(lambda x: x[1:])"
   ]
  },
  {
   "cell_type": "code",
   "execution_count": 11,
   "metadata": {
    "collapsed": false
   },
   "outputs": [],
   "source": [
    "# filter the columns\n",
    "formatted2004DF = df2004Ia[['Race and Hispanic origin', 'Total Population', 'Total Citizen Population', \n",
    "                      'Total Registered', 'Percent registered (Total 18+)', 'Percent registered (Citizen 18+)',\n",
    "                     'Total Voted', 'Percent voted (Total 18+)', 'Percent voted (Citizen 18+)']]"
   ]
  },
  {
   "cell_type": "markdown",
   "metadata": {},
   "source": [
    "## 2000"
   ]
  },
  {
   "cell_type": "code",
   "execution_count": 16,
   "metadata": {
    "collapsed": false
   },
   "outputs": [],
   "source": [
    "cols2000 = ['State', 'Race', 'Population 18 and over', 'Total Citizen', 'Percent Citizen', 'Confidence Interval', \n",
    "            'Total Registered', 'Percent Registered 18+', 'Confidence Interval', \n",
    "            'Total Voted', 'Percent Voted 18+', 'Confidence interval']\n",
    "\n",
    "f2000 = pd.read_excel(dirElection + 'tab04a(2000).xls', header=None, skiprows=10, names=cols2000, \n",
    "                      index=False, na_values=['(B)', '-'])"
   ]
  },
  {
   "cell_type": "code",
   "execution_count": 17,
   "metadata": {
    "collapsed": false
   },
   "outputs": [
    {
     "name": "stderr",
     "output_type": "stream",
     "text": [
      "/home/user/.local/lib/python2.7/site-packages/ipykernel/__main__.py:8: SettingWithCopyWarning: \n",
      "A value is trying to be set on a copy of a slice from a DataFrame\n",
      "\n",
      "See the caveats in the documentation: http://pandas.pydata.org/pandas-docs/stable/indexing.html#indexing-view-versus-copy\n",
      "/home/user/.local/lib/python2.7/site-packages/ipykernel/__main__.py:12: SettingWithCopyWarning: \n",
      "A value is trying to be set on a copy of a slice from a DataFrame.\n",
      "Try using .loc[row_indexer,col_indexer] = value instead\n",
      "\n",
      "See the caveats in the documentation: http://pandas.pydata.org/pandas-docs/stable/indexing.html#indexing-view-versus-copy\n",
      "/home/user/.local/lib/python2.7/site-packages/ipykernel/__main__.py:13: SettingWithCopyWarning: \n",
      "A value is trying to be set on a copy of a slice from a DataFrame.\n",
      "Try using .loc[row_indexer,col_indexer] = value instead\n",
      "\n",
      "See the caveats in the documentation: http://pandas.pydata.org/pandas-docs/stable/indexing.html#indexing-view-versus-copy\n"
     ]
    }
   ],
   "source": [
    "df2000Ia = f2000.iloc[144:153]\n",
    "\n",
    "# filter columns\n",
    "formatted2000DF = df2000Ia[['Race', 'Population 18 and over', 'Total Citizen', 'Percent Citizen',\n",
    "                           'Total Registered', 'Percent Registered 18+', 'Total Voted', 'Percent Voted 18+']]\n",
    "\n",
    "# drop the API row\n",
    "formatted2000DF.dropna(subset=['Total Registered'], inplace=True)\n",
    "\n",
    "\n",
    "# Create a new column so that the DF is normalized to the others\n",
    "formatted2000DF['Citizen Registered %'] = (formatted2000DF['Total Registered'] / formatted2000DF['Total Citizen']) * 100\n",
    "formatted2000DF['Citizen Voted %'] = (formatted2000DF['Total Voted'] / formatted2000DF['Total Citizen']) * 100"
   ]
  },
  {
   "cell_type": "code",
   "execution_count": 18,
   "metadata": {
    "collapsed": false
   },
   "outputs": [],
   "source": [
    "formatted2000DF = formatted2000DF[['Race', 'Population 18 and over', 'Total Citizen', 'Total Registered',\n",
    "            'Percent Registered 18+', 'Citizen Registered %', 'Total Voted',\n",
    "             'Percent Voted 18+', 'Citizen Voted %']]"
   ]
  },
  {
   "cell_type": "markdown",
   "metadata": {},
   "source": [
    "## 1996\n",
    "\n",
    "Fixed width format..."
   ]
  },
  {
   "cell_type": "code",
   "execution_count": 19,
   "metadata": {
    "collapsed": false
   },
   "outputs": [
    {
     "data": {
      "text/html": [
       "<div>\n",
       "<table border=\"1\" class=\"dataframe\">\n",
       "  <thead>\n",
       "    <tr style=\"text-align: right;\">\n",
       "      <th></th>\n",
       "      <th>Race</th>\n",
       "      <th>Total Population</th>\n",
       "      <th>Citizen Population</th>\n",
       "      <th>Registered Population</th>\n",
       "      <th>Voting Population</th>\n",
       "      <th>Total Voted %</th>\n",
       "      <th>Citizen Registered %</th>\n",
       "      <th>Citizen Voted %</th>\n",
       "      <th>Total Registered %</th>\n",
       "    </tr>\n",
       "  </thead>\n",
       "  <tbody>\n",
       "    <tr>\n",
       "      <th>0</th>\n",
       "      <td>All</td>\n",
       "      <td>2848</td>\n",
       "      <td>1948</td>\n",
       "      <td>1543</td>\n",
       "      <td>1291</td>\n",
       "      <td>45.33</td>\n",
       "      <td>68.40</td>\n",
       "      <td>61.1</td>\n",
       "      <td>54.18</td>\n",
       "    </tr>\n",
       "    <tr>\n",
       "      <th>1</th>\n",
       "      <td>White</td>\n",
       "      <td>2750</td>\n",
       "      <td>1999</td>\n",
       "      <td>1497</td>\n",
       "      <td>1265</td>\n",
       "      <td>46.00</td>\n",
       "      <td>72.69</td>\n",
       "      <td>63.3</td>\n",
       "      <td>54.44</td>\n",
       "    </tr>\n",
       "    <tr>\n",
       "      <th>2</th>\n",
       "      <td>Black</td>\n",
       "      <td>55</td>\n",
       "      <td>43</td>\n",
       "      <td>23</td>\n",
       "      <td>20</td>\n",
       "      <td>36.36</td>\n",
       "      <td>78.18</td>\n",
       "      <td>44.0</td>\n",
       "      <td>41.82</td>\n",
       "    </tr>\n",
       "    <tr>\n",
       "      <th>3</th>\n",
       "      <td>Hispanic</td>\n",
       "      <td>49</td>\n",
       "      <td>24</td>\n",
       "      <td>12</td>\n",
       "      <td>6</td>\n",
       "      <td>12.24</td>\n",
       "      <td>48.98</td>\n",
       "      <td>27.1</td>\n",
       "      <td>24.49</td>\n",
       "    </tr>\n",
       "  </tbody>\n",
       "</table>\n",
       "</div>"
      ],
      "text/plain": [
       "       Race  Total Population  Citizen Population  Registered Population  \\\n",
       "0       All              2848                1948                   1543   \n",
       "1     White              2750                1999                   1497   \n",
       "2     Black                55                  43                     23   \n",
       "3  Hispanic                49                  24                     12   \n",
       "\n",
       "   Voting Population  Total Voted %  Citizen Registered %  Citizen Voted %  \\\n",
       "0               1291          45.33                 68.40             61.1   \n",
       "1               1265          46.00                 72.69             63.3   \n",
       "2                 20          36.36                 78.18             44.0   \n",
       "3                  6          12.24                 48.98             27.1   \n",
       "\n",
       "   Total Registered %  \n",
       "0               54.18  \n",
       "1               54.44  \n",
       "2               41.82  \n",
       "3               24.49  "
      ]
     },
     "execution_count": 19,
     "metadata": {},
     "output_type": "execute_result"
    }
   ],
   "source": [
    "# 96 was too weird with fixed width format, so I calculated by hand\n",
    "\n",
    "f1996 = pd.read_csv(dirElection + '96-extract.csv')\n",
    "f1996.head()"
   ]
  },
  {
   "cell_type": "code",
   "execution_count": 20,
   "metadata": {
    "collapsed": true
   },
   "outputs": [],
   "source": [
    "# read the row #'s you need to extract"
   ]
  },
  {
   "cell_type": "markdown",
   "metadata": {},
   "source": [
    "## Column Renaming"
   ]
  },
  {
   "cell_type": "code",
   "execution_count": 21,
   "metadata": {
    "collapsed": true
   },
   "outputs": [],
   "source": [
    "col2012 = ['Race and Hispanic origin', 'Total Population', 'Total Citizen Population', \n",
    "            'Total registered', 'Percent registered\\n(Total)', 'Percent registered\\n(Citizen)',\n",
    "            'Total voted', 'Percent voted\\n(Total)', 'Percent voted\\n(Citizen)']\n",
    "col2008 = ['Race and Hispanic origin', 'Total Population', 'Total Citizen Population', \n",
    "            'Total Registered', 'Percent registered (Total 18+)', 'Percent registered (Citizen 18+)',\n",
    "            'Total Voted', 'Percent voted (Total 18+)', 'Percent voted (Citizen 18+)']\n",
    "col2004 = ['Race and Hispanic origin', 'Total Population', 'Total Citizen Population', \n",
    "            'Total Registered', 'Percent registered (Total 18+)', 'Percent registered (Citizen 18+)',\n",
    "            'Total Voted', 'Percent voted (Total 18+)', 'Percent voted (Citizen 18+)']\n",
    "col2000 = ['Race', 'Population 18 and over', 'Total Citizen', 'Total Registered',\n",
    "            'Percent Registered 18+', 'Citizen Registered %', 'Total Voted',\n",
    "             'Percent Voted 18+', 'Citizen Voted %']\n",
    "           \n",
    "#col1996\n",
    "\n",
    "normalCols = ['Race', 'Total Population', 'Citizen Population', 'Registered Population', \n",
    "             'Total Registered %', 'Citizen Registered %', 'Voting Population', 'Total Voted %',\n",
    "             'Citizen Voted %']"
   ]
  },
  {
   "cell_type": "code",
   "execution_count": 22,
   "metadata": {
    "collapsed": false,
    "scrolled": true
   },
   "outputs": [
    {
     "name": "stderr",
     "output_type": "stream",
     "text": [
      "/usr/local/lib/python2.7/dist-packages/pandas/core/frame.py:2754: SettingWithCopyWarning: \n",
      "A value is trying to be set on a copy of a slice from a DataFrame\n",
      "\n",
      "See the caveats in the documentation: http://pandas.pydata.org/pandas-docs/stable/indexing.html#indexing-view-versus-copy\n",
      "  **kwargs)\n"
     ]
    }
   ],
   "source": [
    "# rename\n",
    "formatted2012DF.rename(columns=dict(zip(col2012, normalCols)), inplace=True)\n",
    "formatted2008DF.rename(columns=dict(zip(col2008, normalCols)), inplace=True)\n",
    "formatted2004DF.rename(columns=dict(zip(col2004, normalCols)), inplace=True)\n",
    "formatted2000DF.rename(columns=dict(zip(col2000, normalCols)), inplace=True)\n",
    "\n",
    "#1996 is done already\n",
    "#1992\n",
    "\n",
    "# add years\n",
    "formatted2012DF['Year'] = 2012\n",
    "formatted2008DF['Year'] = 2008\n",
    "formatted2004DF['Year'] = 2004\n",
    "formatted2000DF['Year'] = 2000\n",
    "f1996['Year'] = 1996"
   ]
  },
  {
   "cell_type": "code",
   "execution_count": 27,
   "metadata": {
    "collapsed": false
   },
   "outputs": [],
   "source": [
    "# Add them together!\n",
    "\n",
    "combined = pd.concat([formatted2012DF, formatted2008DF, formatted2004DF, \n",
    "           formatted2000DF, f1996], ignore_index=True)\n",
    "\n",
    "#fix race -> hispanics in 12, 10, and 8 have parantheses\n",
    "combined['Race'] = combined['Race'].apply(lambda x: x.split(' (')[0])"
   ]
  },
  {
   "cell_type": "code",
   "execution_count": 29,
   "metadata": {
    "collapsed": false
   },
   "outputs": [],
   "source": [
    "combined[['Race', 'Total Population', 'Citizen Population', 'Registered Population', 'Voting Population', 'Year']].to_csv(\n",
    "dirDataProc + 'elections/election-populations.csv', float_format='%.2f', index=False)\n",
    "\n",
    "combined.to_csv(\n",
    "dirDataProc + 'elections/election.csv', float_format='%.2f', index=False)"
   ]
  },
  {
   "cell_type": "code",
   "execution_count": null,
   "metadata": {
    "collapsed": true
   },
   "outputs": [],
   "source": []
  }
 ],
 "metadata": {
  "kernelspec": {
   "display_name": "Python 2",
   "language": "python",
   "name": "python2"
  },
  "language_info": {
   "codemirror_mode": {
    "name": "ipython",
    "version": 2
   },
   "file_extension": ".py",
   "mimetype": "text/x-python",
   "name": "python",
   "nbconvert_exporter": "python",
   "pygments_lexer": "ipython2",
   "version": "2.7.12"
  }
 },
 "nbformat": 4,
 "nbformat_minor": 0
}
