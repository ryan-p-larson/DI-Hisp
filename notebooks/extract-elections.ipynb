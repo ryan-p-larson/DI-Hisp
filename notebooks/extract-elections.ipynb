{
 "cells": [
  {
   "cell_type": "code",
   "execution_count": 1,
   "metadata": {
    "collapsed": true
   },
   "outputs": [],
   "source": [
    "# library\n",
    "import pandas as pd\n",
    "import matplotlib\n",
    "\n",
    "%matplotlib inline"
   ]
  },
  {
   "cell_type": "code",
   "execution_count": 2,
   "metadata": {
    "collapsed": true
   },
   "outputs": [],
   "source": [
    "# directories\n",
    "dirData = '../data/'\n",
    "\n",
    "dirDataExt = dirData + 'external/'\n",
    "dirElection = dirDataExt + 'election/'\n",
    "\n",
    "dirDataProc = dirData + 'processed/'"
   ]
  },
  {
   "cell_type": "code",
   "execution_count": 3,
   "metadata": {
    "collapsed": false
   },
   "outputs": [
    {
     "data": {
      "text/html": [
       "<div>\n",
       "<table border=\"1\" class=\"dataframe\">\n",
       "  <thead>\n",
       "    <tr style=\"text-align: right;\">\n",
       "      <th></th>\n",
       "      <th>Race</th>\n",
       "      <th>Total Population</th>\n",
       "      <th>Citizen Population</th>\n",
       "      <th>Registered Population</th>\n",
       "      <th>Voting Population</th>\n",
       "      <th>Year</th>\n",
       "    </tr>\n",
       "  </thead>\n",
       "  <tbody>\n",
       "    <tr>\n",
       "      <th>0</th>\n",
       "      <td>Total</td>\n",
       "      <td>2320.0</td>\n",
       "      <td>2232.0</td>\n",
       "      <td>1745.0</td>\n",
       "      <td>1548.0</td>\n",
       "      <td>2012</td>\n",
       "    </tr>\n",
       "    <tr>\n",
       "      <th>1</th>\n",
       "      <td>Male</td>\n",
       "      <td>1135.0</td>\n",
       "      <td>1084.0</td>\n",
       "      <td>838.0</td>\n",
       "      <td>733.0</td>\n",
       "      <td>2012</td>\n",
       "    </tr>\n",
       "    <tr>\n",
       "      <th>2</th>\n",
       "      <td>Female</td>\n",
       "      <td>1186.0</td>\n",
       "      <td>1148.0</td>\n",
       "      <td>906.0</td>\n",
       "      <td>816.0</td>\n",
       "      <td>2012</td>\n",
       "    </tr>\n",
       "    <tr>\n",
       "      <th>3</th>\n",
       "      <td>White alone</td>\n",
       "      <td>2173.0</td>\n",
       "      <td>2123.0</td>\n",
       "      <td>1673.0</td>\n",
       "      <td>1482.0</td>\n",
       "      <td>2012</td>\n",
       "    </tr>\n",
       "    <tr>\n",
       "      <th>4</th>\n",
       "      <td>.White non-Hispanic alone</td>\n",
       "      <td>2067.0</td>\n",
       "      <td>2057.0</td>\n",
       "      <td>1644.0</td>\n",
       "      <td>1455.0</td>\n",
       "      <td>2012</td>\n",
       "    </tr>\n",
       "  </tbody>\n",
       "</table>\n",
       "</div>"
      ],
      "text/plain": [
       "                        Race  Total Population  Citizen Population  \\\n",
       "0                      Total            2320.0              2232.0   \n",
       "1                       Male            1135.0              1084.0   \n",
       "2                     Female            1186.0              1148.0   \n",
       "3                White alone            2173.0              2123.0   \n",
       "4  .White non-Hispanic alone            2067.0              2057.0   \n",
       "\n",
       "   Registered Population  Voting Population  Year  \n",
       "0                 1745.0             1548.0  2012  \n",
       "1                  838.0              733.0  2012  \n",
       "2                  906.0              816.0  2012  \n",
       "3                 1673.0             1482.0  2012  \n",
       "4                 1644.0             1455.0  2012  "
      ]
     },
     "execution_count": 3,
     "metadata": {},
     "output_type": "execute_result"
    }
   ],
   "source": [
    "# read in the slimmed election data\n",
    "iaElec = pd.read_csv(dirDataProc + '/elections/election-populations.csv', index_col=False,\n",
    "                    thousands=',')\n",
    "\n",
    "iaElec.head()"
   ]
  },
  {
   "cell_type": "markdown",
   "metadata": {},
   "source": [
    "### Formatting"
   ]
  },
  {
   "cell_type": "code",
   "execution_count": 4,
   "metadata": {
    "collapsed": true
   },
   "outputs": [],
   "source": [
    "# year 2000 has 'All' instead of total\n",
    "iaElec['Race'] = iaElec['Race'].apply(lambda x: 'Total' if (x == 'All') else x)\n",
    "\n",
    "# get rid of . in rows\n",
    "iaElec['Race'] = iaElec['Race'].apply(lambda x: x.replace('.', ''))\n",
    "\n",
    "#clean races for reading\n",
    "iaElec['Race'] = iaElec['Race'].apply(lambda x: x.replace(' alone', ''))\n",
    "\n",
    "# And normalize abbreviations\n",
    "#iaElec['Race'] = iaElec['Race'].apply(lambda x: x[4:] + ' non-Hispanic' if (x[:3] == 'N-H') else x)"
   ]
  },
  {
   "cell_type": "code",
   "execution_count": 7,
   "metadata": {
    "collapsed": false
   },
   "outputs": [],
   "source": [
    "# Get just the populations we need\n",
    "iaPrimaryRaces = iaElec[iaElec['Race'].isin(['Total', 'Asian', 'Hispanic', 'White', 'Black'])]\n"
   ]
  },
  {
   "cell_type": "code",
   "execution_count": 43,
   "metadata": {
    "collapsed": false
   },
   "outputs": [],
   "source": [
    "# write it out\n",
    "iaPrimaryRaces.to_csv(dirDataProc + 'elections/election-primary-races.csv', index=False)"
   ]
  },
  {
   "cell_type": "code",
   "execution_count": 21,
   "metadata": {
    "collapsed": false,
    "scrolled": false
   },
   "outputs": [
    {
     "name": "stdout",
     "output_type": "stream",
     "text": [
      "1996\n",
      "Eligible Population: 1948.0\n",
      "Hispanic Population: 24.0\n",
      "\t% Hispanics who voted: 25.0%\n",
      "\t% Voters who were hispanic: 1.23203285421\n",
      "\tHispanics % contribution of all of the votes: 0.464756003098\n",
      "\n",
      "\n",
      "2000\n",
      "Eligible Population: 2008.0\n",
      "Hispanic Population: 29.0\n",
      "\t% Hispanics who voted: 65.5172413793%\n",
      "\t% Voters who were hispanic: 1.44422310757\n",
      "\tHispanics % contribution of all of the votes: 1.40428677014\n",
      "\n",
      "\n",
      "2004\n",
      "Eligible Population: 2136.0\n",
      "Hispanic Population: 24.0\n",
      "\t% Hispanics who voted: 50.0%\n",
      "\t% Voters who were hispanic: 1.12359550562\n",
      "\tHispanics % contribution of all of the votes: 0.788436268068\n",
      "\n",
      "\n",
      "2008\n",
      "Eligible Population: 2137.0\n",
      "Hispanic Population: 31.0\n",
      "\t% Hispanics who voted: 64.5161290323%\n",
      "\t% Voters who were hispanic: 1.45063172672\n",
      "\tHispanics % contribution of all of the votes: 1.33244503664\n",
      "\n",
      "\n",
      "2012\n",
      "Eligible Population: 2232.0\n",
      "Hispanic Population: 71.0\n",
      "\t% Hispanics who voted: 42.2535211268%\n",
      "\t% Voters who were hispanic: 3.18100358423\n",
      "\tHispanics % contribution of all of the votes: 1.93798449612\n",
      "\n",
      "\n"
     ]
    }
   ],
   "source": [
    "test = ia.groupby('Year')\n",
    "\n",
    "holder = {}\n",
    "\n",
    "for name, group in test:\n",
    "    \n",
    "    # Total first, then hispanic (group.iloc[0])\n",
    "    print (name)\n",
    "    print ('Eligible Population: {}'.format(group.iloc[0]['Citizen Population']))\n",
    "    print ('Hispanic Population: {}'.format(group.iloc[1]['Citizen Population']))\n",
    "    print ('\\t% Hispanics who voted: {}%'.format((group.iloc[1]['Voting Population'] / group.iloc[1]['Citizen Population'])*100))\n",
    "    print ('\\t% Voters who were hispanic: {}'.format((group.iloc[1]['Citizen Population'] / group.iloc[0]['Citizen Population'])*100))\n",
    "    print ('\\tHispanics % contribution of all of the votes: {}'.format((group.iloc[1]['Voting Population'] / group.iloc[0]['Voting Population'])*100))\n",
    "    print ('\\n')\n"
   ]
  },
  {
   "cell_type": "code",
   "execution_count": 40,
   "metadata": {
    "collapsed": false
   },
   "outputs": [],
   "source": [
    "iaPrimaryRaces.pivot(index='Year', columns='Race', values='Voting Population').to_csv(dirDataProc + 'elections/election-voting-populations.csv')"
   ]
  },
  {
   "cell_type": "code",
   "execution_count": null,
   "metadata": {
    "collapsed": true
   },
   "outputs": [],
   "source": []
  }
 ],
 "metadata": {
  "anaconda-cloud": {},
  "kernelspec": {
   "display_name": "Python [conda root]",
   "language": "python",
   "name": "conda-root-py"
  },
  "language_info": {
   "codemirror_mode": {
    "name": "ipython",
    "version": 3
   },
   "file_extension": ".py",
   "mimetype": "text/x-python",
   "name": "python",
   "nbconvert_exporter": "python",
   "pygments_lexer": "ipython3",
   "version": "3.5.2"
  }
 },
 "nbformat": 4,
 "nbformat_minor": 1
}
