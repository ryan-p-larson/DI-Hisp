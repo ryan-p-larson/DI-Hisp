{
 "cells": [
  {
   "cell_type": "code",
   "execution_count": 1,
   "metadata": {
    "collapsed": true
   },
   "outputs": [],
   "source": [
    "# Libraries & directories\n",
    "import pandas as pd"
   ]
  },
  {
   "cell_type": "code",
   "execution_count": 2,
   "metadata": {
    "collapsed": true
   },
   "outputs": [],
   "source": [
    "dirData = '../data/'\n",
    "dirDataExt = dirData + 'external/'\n",
    "\n",
    "dirCensusTracts = dirDataExt + 'census-tracts/'"
   ]
  },
  {
   "cell_type": "code",
   "execution_count": 22,
   "metadata": {
    "collapsed": false
   },
   "outputs": [],
   "source": [
    "# read in the tract file\n",
    "\n",
    "# list of columns to read in, too messy otherwise\n",
    "#\n",
    "# vc43 = race; total population\n",
    "# vc87 estimate; hispanic and latino total population\n",
    "tractCols = ['GEO.id2', 'GEO.display-label', 'HC01_VC87', 'HC01_VC88', 'HC03_VC88']\n",
    "tracts = pd.read_csv(dirCensusTracts + 'ACS_14_5YR_DP05.csv', index_col=False, usecols=tractCols, skiprows=[1])\n",
    "\n",
    "#rename columns for our sanity\n",
    "tractRename = dict(zip(tractCols, ['FIPS', 'Name',  'total_pop', 'hisp_pop', 'hisp_perc']))\n",
    "tracts.rename(columns=tractRename, inplace=True)"
   ]
  },
  {
   "cell_type": "code",
   "execution_count": 23,
   "metadata": {
    "collapsed": false
   },
   "outputs": [
    {
     "data": {
      "text/html": [
       "<div>\n",
       "<table border=\"1\" class=\"dataframe\">\n",
       "  <thead>\n",
       "    <tr style=\"text-align: right;\">\n",
       "      <th></th>\n",
       "      <th>FIPS</th>\n",
       "      <th>Name</th>\n",
       "      <th>total_pop</th>\n",
       "      <th>hisp_pop</th>\n",
       "      <th>hisp_perc</th>\n",
       "    </tr>\n",
       "  </thead>\n",
       "  <tbody>\n",
       "    <tr>\n",
       "      <th>0</th>\n",
       "      <td>19001960100</td>\n",
       "      <td>Census Tract 9601, Adair County, Iowa</td>\n",
       "      <td>2831</td>\n",
       "      <td>58</td>\n",
       "      <td>2.0</td>\n",
       "    </tr>\n",
       "    <tr>\n",
       "      <th>1</th>\n",
       "      <td>19001960200</td>\n",
       "      <td>Census Tract 9602, Adair County, Iowa</td>\n",
       "      <td>1700</td>\n",
       "      <td>12</td>\n",
       "      <td>0.7</td>\n",
       "    </tr>\n",
       "    <tr>\n",
       "      <th>2</th>\n",
       "      <td>19001960300</td>\n",
       "      <td>Census Tract 9603, Adair County, Iowa</td>\n",
       "      <td>3012</td>\n",
       "      <td>44</td>\n",
       "      <td>1.5</td>\n",
       "    </tr>\n",
       "    <tr>\n",
       "      <th>3</th>\n",
       "      <td>19003950100</td>\n",
       "      <td>Census Tract 9501, Adams County, Iowa</td>\n",
       "      <td>1678</td>\n",
       "      <td>6</td>\n",
       "      <td>0.4</td>\n",
       "    </tr>\n",
       "    <tr>\n",
       "      <th>4</th>\n",
       "      <td>19003950200</td>\n",
       "      <td>Census Tract 9502, Adams County, Iowa</td>\n",
       "      <td>2259</td>\n",
       "      <td>33</td>\n",
       "      <td>1.5</td>\n",
       "    </tr>\n",
       "  </tbody>\n",
       "</table>\n",
       "</div>"
      ],
      "text/plain": [
       "          FIPS                                   Name  total_pop  hisp_pop  \\\n",
       "0  19001960100  Census Tract 9601, Adair County, Iowa       2831        58   \n",
       "1  19001960200  Census Tract 9602, Adair County, Iowa       1700        12   \n",
       "2  19001960300  Census Tract 9603, Adair County, Iowa       3012        44   \n",
       "3  19003950100  Census Tract 9501, Adams County, Iowa       1678         6   \n",
       "4  19003950200  Census Tract 9502, Adams County, Iowa       2259        33   \n",
       "\n",
       "   hisp_perc  \n",
       "0        2.0  \n",
       "1        0.7  \n",
       "2        1.5  \n",
       "3        0.4  \n",
       "4        1.5  "
      ]
     },
     "execution_count": 23,
     "metadata": {},
     "output_type": "execute_result"
    }
   ],
   "source": [
    "tracts.head()"
   ]
  },
  {
   "cell_type": "code",
   "execution_count": 24,
   "metadata": {
    "collapsed": true
   },
   "outputs": [],
   "source": [
    "tracts.to_csv(dirData + 'processed/ia-tracts.csv', index=False)"
   ]
  },
  {
   "cell_type": "code",
   "execution_count": null,
   "metadata": {
    "collapsed": true
   },
   "outputs": [],
   "source": []
  }
 ],
 "metadata": {
  "anaconda-cloud": {},
  "kernelspec": {
   "display_name": "Python [Root]",
   "language": "python",
   "name": "Python [Root]"
  },
  "language_info": {
   "codemirror_mode": {
    "name": "ipython",
    "version": 3
   },
   "file_extension": ".py",
   "mimetype": "text/x-python",
   "name": "python",
   "nbconvert_exporter": "python",
   "pygments_lexer": "ipython3",
   "version": "3.5.2"
  }
 },
 "nbformat": 4,
 "nbformat_minor": 0
}
